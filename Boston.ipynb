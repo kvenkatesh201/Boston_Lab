{
 "cells": [
  {
   "cell_type": "code",
   "execution_count": 1,
   "metadata": {
    "collapsed": true
   },
   "outputs": [],
   "source": [
    "from sklearn import datasets\n",
    "import pandas as pd\n",
    "from sklearn.preprocessing import StandardScaler\n",
    "from sklearn.cross_validation import train_test_split\n",
    "from sklearn.metrics import mean_squared_error\n",
    "from sklearn.metrics import r2_score\n",
    "from sklearn.linear_model import LinearRegression\n",
    "from sklearn.linear_model import Lasso"
   ]
  },
  {
   "cell_type": "code",
   "execution_count": 2,
   "metadata": {
    "collapsed": false
   },
   "outputs": [
    {
     "name": "stdout",
     "output_type": "stream",
     "text": [
      "Boston House Prices dataset\n",
      "\n",
      "Notes\n",
      "------\n",
      "Data Set Characteristics:  \n",
      "\n",
      "    :Number of Instances: 506 \n",
      "\n",
      "    :Number of Attributes: 13 numeric/categorical predictive\n",
      "    \n",
      "    :Median Value (attribute 14) is usually the target\n",
      "\n",
      "    :Attribute Information (in order):\n",
      "        - CRIM     per capita crime rate by town\n",
      "        - ZN       proportion of residential land zoned for lots over 25,000 sq.ft.\n",
      "        - INDUS    proportion of non-retail business acres per town\n",
      "        - CHAS     Charles River dummy variable (= 1 if tract bounds river; 0 otherwise)\n",
      "        - NOX      nitric oxides concentration (parts per 10 million)\n",
      "        - RM       average number of rooms per dwelling\n",
      "        - AGE      proportion of owner-occupied units built prior to 1940\n",
      "        - DIS      weighted distances to five Boston employment centres\n",
      "        - RAD      index of accessibility to radial highways\n",
      "        - TAX      full-value property-tax rate per $10,000\n",
      "        - PTRATIO  pupil-teacher ratio by town\n",
      "        - B        1000(Bk - 0.63)^2 where Bk is the proportion of blacks by town\n",
      "        - LSTAT    % lower status of the population\n",
      "        - MEDV     Median value of owner-occupied homes in $1000's\n",
      "\n",
      "    :Missing Attribute Values: None\n",
      "\n",
      "    :Creator: Harrison, D. and Rubinfeld, D.L.\n",
      "\n",
      "This is a copy of UCI ML housing dataset.\n",
      "http://archive.ics.uci.edu/ml/datasets/Housing\n",
      "\n",
      "\n",
      "This dataset was taken from the StatLib library which is maintained at Carnegie Mellon University.\n",
      "\n",
      "The Boston house-price data of Harrison, D. and Rubinfeld, D.L. 'Hedonic\n",
      "prices and the demand for clean air', J. Environ. Economics & Management,\n",
      "vol.5, 81-102, 1978.   Used in Belsley, Kuh & Welsch, 'Regression diagnostics\n",
      "...', Wiley, 1980.   N.B. Various transformations are used in the table on\n",
      "pages 244-261 of the latter.\n",
      "\n",
      "The Boston house-price data has been used in many machine learning papers that address regression\n",
      "problems.   \n",
      "     \n",
      "**References**\n",
      "\n",
      "   - Belsley, Kuh & Welsch, 'Regression diagnostics: Identifying Influential Data and Sources of Collinearity', Wiley, 1980. 244-261.\n",
      "   - Quinlan,R. (1993). Combining Instance-Based and Model-Based Learning. In Proceedings on the Tenth International Conference of Machine Learning, 236-243, University of Massachusetts, Amherst. Morgan Kaufmann.\n",
      "   - many more! (see http://archive.ics.uci.edu/ml/datasets/Housing)\n",
      "\n"
     ]
    }
   ],
   "source": [
    "bean = datasets.load_boston()\n",
    "print bean.DESCR"
   ]
  },
  {
   "cell_type": "code",
   "execution_count": 3,
   "metadata": {
    "collapsed": true
   },
   "outputs": [],
   "source": [
    "def load_boston():\n",
    "    scaler = StandardScaler()\n",
    "    boston = datasets.load_boston()\n",
    "    X=boston.data\n",
    "    y=boston.target\n",
    "    X = scaler.fit_transform(X)\n",
    "    return train_test_split(X,y)"
   ]
  },
  {
   "cell_type": "code",
   "execution_count": 4,
   "metadata": {
    "collapsed": true
   },
   "outputs": [],
   "source": [
    "X_train, X_test, y_train, y_test = load_boston()"
   ]
  },
  {
   "cell_type": "code",
   "execution_count": 5,
   "metadata": {
    "collapsed": false
   },
   "outputs": [
    {
     "data": {
      "text/plain": [
       "(379, 13)"
      ]
     },
     "execution_count": 5,
     "metadata": {},
     "output_type": "execute_result"
    }
   ],
   "source": [
    "X_train.shape"
   ]
  },
  {
   "cell_type": "code",
   "execution_count": 6,
   "metadata": {
    "collapsed": false
   },
   "outputs": [
    {
     "data": {
      "text/plain": [
       "LinearRegression(copy_X=True, fit_intercept=True, n_jobs=1, normalize=False)"
      ]
     },
     "execution_count": 6,
     "metadata": {},
     "output_type": "execute_result"
    }
   ],
   "source": [
    "clf = LinearRegression()\n",
    "clf.fit(X_train, y_train)"
   ]
  },
  {
   "cell_type": "code",
   "execution_count": 7,
   "metadata": {
    "collapsed": false
   },
   "outputs": [
    {
     "data": {
      "text/plain": [
       "[(25.100000000000001, 31.010590577430104),\n",
       " (23.800000000000001, 26.615444592345455),\n",
       " (29.800000000000001, 32.571776683205229),\n",
       " (19.399999999999999, 23.753920580231625),\n",
       " (8.6999999999999993, 8.8220708068853035),\n",
       " (21.899999999999999, 38.792896409153172),\n",
       " (22.5, 29.356144385306013),\n",
       " (23.199999999999999, 27.250228584409385),\n",
       " (12.1, 18.364032963573401),\n",
       " (13.300000000000001, 16.135131412038206),\n",
       " (29.100000000000001, 30.332111367191548),\n",
       " (14.6, 19.569975259547341),\n",
       " (5.5999999999999996, 11.939812121809712),\n",
       " (39.799999999999997, 34.164804070915814),\n",
       " (29.600000000000001, 24.327349547906906),\n",
       " (32.0, 33.92879099019148),\n",
       " (11.9, 22.864949723880127),\n",
       " (24.0, 29.990341442103986),\n",
       " (38.700000000000003, 35.653702338134593),\n",
       " (18.5, 19.737708678208989),\n",
       " (12.300000000000001, 13.10212592902529),\n",
       " (18.0, 19.464482994592124),\n",
       " (19.899999999999999, 20.628229950913799),\n",
       " (17.399999999999999, 16.454179276024966),\n",
       " (16.800000000000001, 20.555289612045019),\n",
       " (10.5, 6.3964089340312782),\n",
       " (14.5, 18.344940570778057),\n",
       " (20.600000000000001, 20.176968934481941),\n",
       " (36.5, 34.973480661196533),\n",
       " (19.800000000000001, 22.873877267006936),\n",
       " (7.0, 9.2332938472794286),\n",
       " (27.5, 20.027797161560017),\n",
       " (24.100000000000001, 26.24545053578208),\n",
       " (24.5, 27.665193308097216),\n",
       " (31.699999999999999, 33.202384889131025),\n",
       " (23.199999999999999, 25.51076764925871),\n",
       " (10.199999999999999, 6.4139863164875877),\n",
       " (24.100000000000001, 21.355405465752867),\n",
       " (33.200000000000003, 36.534659786427419),\n",
       " (29.800000000000001, 26.052384693274742),\n",
       " (23.600000000000001, 28.859276603767213),\n",
       " (19.100000000000001, 17.556366395811892),\n",
       " (17.5, 18.598835869077476),\n",
       " (14.1, 16.083275665510428),\n",
       " (32.700000000000003, 30.327780065349526),\n",
       " (21.399999999999999, 22.522905885364061),\n",
       " (43.5, 38.769718402234233),\n",
       " (16.100000000000001, 18.858453337492296),\n",
       " (17.699999999999999, 20.566513870290684),\n",
       " (17.800000000000001, 17.465487462182889),\n",
       " (13.4, 13.35846677073893),\n",
       " (21.699999999999999, 24.056987163629032),\n",
       " (24.800000000000001, 26.358166780043259),\n",
       " (33.299999999999997, 35.954496489929831),\n",
       " (17.5, 17.123138515292332),\n",
       " (23.800000000000001, 25.636013577041894),\n",
       " (14.1, 18.899561652601527),\n",
       " (13.800000000000001, 0.54619290277678445),\n",
       " (10.9, 15.049523613048596),\n",
       " (22.899999999999999, 29.198356809408281),\n",
       " (22.300000000000001, 27.372769940356839),\n",
       " (15.0, 16.737419008685123),\n",
       " (21.699999999999999, 20.677429876512441),\n",
       " (18.699999999999999, 20.655084647934803),\n",
       " (16.199999999999999, 15.778581013536453),\n",
       " (23.300000000000001, 28.504983691585977),\n",
       " (10.4, 7.2140182360863285),\n",
       " (21.399999999999999, 24.612629786802948),\n",
       " (10.9, 18.588098815195544),\n",
       " (21.5, 20.745079210953886),\n",
       " (16.699999999999999, 20.725358032130149),\n",
       " (19.199999999999999, 20.731416622851238),\n",
       " (48.5, 41.414616423058277),\n",
       " (29.0, 32.648520894005685),\n",
       " (50.0, 40.334046487434819),\n",
       " (33.200000000000003, 32.167793332885324),\n",
       " (20.100000000000001, 19.343559954616179),\n",
       " (23.899999999999999, 27.218013434766284),\n",
       " (19.899999999999999, 19.895806753521736),\n",
       " (23.5, 30.611507952124867),\n",
       " (50.0, 39.390708100095068),\n",
       " (18.800000000000001, 20.590293298750144),\n",
       " (23.899999999999999, 24.847773420156823),\n",
       " (22.0, 22.137866668861097),\n",
       " (21.699999999999999, 23.288063952500199),\n",
       " (10.4, 15.611402896606679),\n",
       " (35.200000000000003, 36.340900394476208),\n",
       " (16.600000000000001, 17.75960818332376),\n",
       " (23.0, 24.181015719662671),\n",
       " (41.700000000000003, 37.906479278886245),\n",
       " (36.399999999999999, 33.176113794301131),\n",
       " (21.399999999999999, 24.661679297870528),\n",
       " (27.100000000000001, 27.761666531757193),\n",
       " (28.699999999999999, 25.541871493917473),\n",
       " (17.800000000000001, 20.937195713303407),\n",
       " (14.0, 13.667299386435038),\n",
       " (26.399999999999999, 22.339915315045108),\n",
       " (44.799999999999997, 38.077561790782177),\n",
       " (22.699999999999999, 23.844232115340194),\n",
       " (25.0, 25.540558411752531),\n",
       " (24.699999999999999, 25.231725211124115),\n",
       " (13.800000000000001, 16.939663523887596),\n",
       " (20.100000000000001, 17.396135514320363),\n",
       " (11.5, 14.497680138685931),\n",
       " (20.899999999999999, 22.076343171282449),\n",
       " (15.199999999999999, 19.591998845207208),\n",
       " (11.800000000000001, 12.911204014926458),\n",
       " (33.799999999999997, 33.884297997677287),\n",
       " (10.199999999999999, 17.03718800070158),\n",
       " (11.0, 14.413999745207203),\n",
       " (22.199999999999999, 26.000912028617638),\n",
       " (34.600000000000001, 34.39816714954177),\n",
       " (22.100000000000001, 27.243548149490966),\n",
       " (23.899999999999999, 26.212265360727788),\n",
       " (21.0, 21.431834910188343),\n",
       " (21.699999999999999, 24.164913822434755),\n",
       " (19.100000000000001, 20.260183185680106),\n",
       " (19.300000000000001, 21.595839596598722),\n",
       " (48.799999999999997, 39.996184363199873),\n",
       " (18.300000000000001, 20.485967765866988),\n",
       " (50.0, 45.071511199587562),\n",
       " (19.800000000000001, 22.053884714152822),\n",
       " (8.4000000000000004, 4.4656785740884821),\n",
       " (21.800000000000001, 20.902821788312519),\n",
       " (17.100000000000001, 19.929512046816409),\n",
       " (21.800000000000001, 22.04385689375319),\n",
       " (16.600000000000001, 15.74531661118063)]"
      ]
     },
     "execution_count": 7,
     "metadata": {},
     "output_type": "execute_result"
    }
   ],
   "source": [
    "zip (y_test, clf.predict(X_test))"
   ]
  },
  {
   "cell_type": "code",
   "execution_count": 10,
   "metadata": {
    "collapsed": false
   },
   "outputs": [
    {
     "name": "stdout",
     "output_type": "stream",
     "text": [
      "Boston House Prices dataset\n",
      "\n",
      "Notes\n",
      "------\n",
      "Data Set Characteristics:  \n",
      "\n",
      "    :Number of Instances: 506 \n",
      "\n",
      "    :Number of Attributes: 13 numeric/categorical predictive\n",
      "    \n",
      "    :Median Value (attribute 14) is usually the target\n",
      "\n",
      "    :Attribute Information (in order):\n",
      "        - CRIM     per capita crime rate by town\n",
      "        - ZN       proportion of residential land zoned for lots over 25,000 sq.ft.\n",
      "        - INDUS    proportion of non-retail business acres per town\n",
      "        - CHAS     Charles River dummy variable (= 1 if tract bounds river; 0 otherwise)\n",
      "        - NOX      nitric oxides concentration (parts per 10 million)\n",
      "        - RM       average number of rooms per dwelling\n",
      "        - AGE      proportion of owner-occupied units built prior to 1940\n",
      "        - DIS      weighted distances to five Boston employment centres\n",
      "        - RAD      index of accessibility to radial highways\n",
      "        - TAX      full-value property-tax rate per $10,000\n",
      "        - PTRATIO  pupil-teacher ratio by town\n",
      "        - B        1000(Bk - 0.63)^2 where Bk is the proportion of blacks by town\n",
      "        - LSTAT    % lower status of the population\n",
      "        - MEDV     Median value of owner-occupied homes in $1000's\n",
      "\n",
      "    :Missing Attribute Values: None\n",
      "\n",
      "    :Creator: Harrison, D. and Rubinfeld, D.L.\n",
      "\n",
      "This is a copy of UCI ML housing dataset.\n",
      "http://archive.ics.uci.edu/ml/datasets/Housing\n",
      "\n",
      "\n",
      "This dataset was taken from the StatLib library which is maintained at Carnegie Mellon University.\n",
      "\n",
      "The Boston house-price data of Harrison, D. and Rubinfeld, D.L. 'Hedonic\n",
      "prices and the demand for clean air', J. Environ. Economics & Management,\n",
      "vol.5, 81-102, 1978.   Used in Belsley, Kuh & Welsch, 'Regression diagnostics\n",
      "...', Wiley, 1980.   N.B. Various transformations are used in the table on\n",
      "pages 244-261 of the latter.\n",
      "\n",
      "The Boston house-price data has been used in many machine learning papers that address regression\n",
      "problems.   \n",
      "     \n",
      "**References**\n",
      "\n",
      "   - Belsley, Kuh & Welsch, 'Regression diagnostics: Identifying Influential Data and Sources of Collinearity', Wiley, 1980. 244-261.\n",
      "   - Quinlan,R. (1993). Combining Instance-Based and Model-Based Learning. In Proceedings on the Tenth International Conference of Machine Learning, 236-243, University of Massachusetts, Amherst. Morgan Kaufmann.\n",
      "   - many more! (see http://archive.ics.uci.edu/ml/datasets/Housing)\n",
      "\n"
     ]
    }
   ],
   "source": [
    "from sklearn.datasets import *\n",
    "data = load_boston()\n",
    "print data.DESCR"
   ]
  },
  {
   "cell_type": "code",
   "execution_count": 11,
   "metadata": {
    "collapsed": false
   },
   "outputs": [
    {
     "name": "stdout",
     "output_type": "stream",
     "text": [
      "{'normalize': False, 'n_jobs': 1, 'residues_': 11080.276284149873, 'fit_intercept': True, 'coef_': array([ -1.07170557e-01,   4.63952195e-02,   2.08602395e-02,\n",
      "         2.68856140e+00,  -1.77957587e+01,   3.80475246e+00,\n",
      "         7.51061703e-04,  -1.47575880e+00,   3.05655038e-01,\n",
      "        -1.23293463e-02,  -9.53463555e-01,   9.39251272e-03,\n",
      "        -5.25466633e-01]), 'copy_X': True, 'rank_': 13, 'intercept_': 36.491103280361145, 'singular_': array([  3.94958310e+03,   1.77662274e+03,   6.42864253e+02,\n",
      "         3.66980826e+02,   1.59116390e+02,   1.18692322e+02,\n",
      "         9.01718207e+01,   6.93889529e+01,   4.06572735e+01,\n",
      "         2.44223087e+01,   1.13502686e+01,   5.50918200e+00,\n",
      "         1.24178413e+00])}\n",
      "0.740607742865\n"
     ]
    }
   ],
   "source": [
    "#r2_score\n",
    "from sklearn.datasets import *\n",
    "from sklearn.linear_model import LinearRegression\n",
    "\n",
    "data = load_boston()\n",
    "model = LinearRegression()\n",
    "model.fit(data.data, data.target)\n",
    "print model.__dict__\n",
    "print model.score(data.data, data.target)"
   ]
  },
  {
   "cell_type": "code",
   "execution_count": 12,
   "metadata": {
    "collapsed": false
   },
   "outputs": [
    {
     "name": "stdout",
     "output_type": "stream",
     "text": [
      "Train R2 0.739605\n",
      "Test R2 0.717189\n"
     ]
    }
   ],
   "source": [
    "from sklearn.datasets import *\n",
    "from sklearn.cross_validation import train_test_split\n",
    "\n",
    "data = load_boston()\n",
    "\n",
    "X_train, X_test, y_train, y_test = train_test_split(data.data, data.target, train_size=0.5)\n",
    "model = LinearRegression()\n",
    "model.fit(X_train, y_train)\n",
    "print \"Train R2 %f\" %model.score(X_train, y_train)\n",
    "print \"Test R2 %f\" %model.score(X_test, y_test)"
   ]
  },
  {
   "cell_type": "code",
   "execution_count": 13,
   "metadata": {
    "collapsed": false
   },
   "outputs": [
    {
     "data": {
      "text/plain": [
       "3.6724999999999999"
      ]
     },
     "execution_count": 13,
     "metadata": {},
     "output_type": "execute_result"
    }
   ],
   "source": [
    "#MSE\n",
    "from sklearn.metrics import mean_squared_error\n",
    "y_true = [6, -0.5, 6, 10]\n",
    "y_pred = [6.5, 0.7, 3, 8]\n",
    "mean_squared_error(y_true, y_pred)"
   ]
  },
  {
   "cell_type": "code",
   "execution_count": 14,
   "metadata": {
    "collapsed": false
   },
   "outputs": [
    {
     "data": {
      "text/plain": [
       "3.0600000000000001"
      ]
     },
     "execution_count": 14,
     "metadata": {},
     "output_type": "execute_result"
    }
   ],
   "source": [
    "y_true = [[0.6, 4],[-3, 2],[5, -4]]\n",
    "y_pred = [[0, 4],[-1, 4],[8, -5]]\n",
    "mean_squared_error(y_true, y_pred)"
   ]
  },
  {
   "cell_type": "code",
   "execution_count": 15,
   "metadata": {
    "collapsed": false
   },
   "outputs": [
    {
     "data": {
      "text/plain": [
       "Lasso(alpha=0.1, copy_X=True, fit_intercept=True, max_iter=1000,\n",
       "   normalize=False, positive=False, precompute=False, random_state=None,\n",
       "   selection='cyclic', tol=0.0001, warm_start=False)"
      ]
     },
     "execution_count": 15,
     "metadata": {},
     "output_type": "execute_result"
    }
   ],
   "source": [
    "#used sklearn.linear_model.Lasso\n",
    "from sklearn import linear_model\n",
    "clf = linear_model.Lasso(alpha=0.1)\n",
    "clf.fit([[0,1], [1, 4], [4, 2]], [0, 1, 2])"
   ]
  },
  {
   "cell_type": "code",
   "execution_count": 16,
   "metadata": {
    "collapsed": false
   },
   "outputs": [
    {
     "name": "stdout",
     "output_type": "stream",
     "text": [
      "[ 0.42231408  0.11983471]\n"
     ]
    }
   ],
   "source": [
    "print(clf.coef_)"
   ]
  },
  {
   "cell_type": "code",
   "execution_count": 17,
   "metadata": {
    "collapsed": false
   },
   "outputs": [
    {
     "name": "stdout",
     "output_type": "stream",
     "text": [
      "0.0165288734406\n"
     ]
    }
   ],
   "source": [
    "print(clf.intercept_)"
   ]
  },
  {
   "cell_type": "code",
   "execution_count": 18,
   "metadata": {
    "collapsed": false
   },
   "outputs": [
    {
     "data": {
      "text/plain": [
       "Lasso(alpha=1.0, copy_X=True, fit_intercept=True, max_iter=1000,\n",
       "   normalize=False, positive=False, precompute=False, random_state=None,\n",
       "   selection='cyclic', tol=0.0001, warm_start=False)"
      ]
     },
     "execution_count": 18,
     "metadata": {},
     "output_type": "execute_result"
    }
   ],
   "source": [
    "from sklearn import linear_model\n",
    "clfA = linear_model.Lasso(alpha=1.0)\n",
    "clfA.fit([[0,0], [1, 1], [2, 2]], [0, 1, 2])"
   ]
  },
  {
   "cell_type": "code",
   "execution_count": 19,
   "metadata": {
    "collapsed": false
   },
   "outputs": [
    {
     "data": {
      "text/plain": [
       "Lasso(alpha=10.0, copy_X=True, fit_intercept=True, max_iter=1000,\n",
       "   normalize=False, positive=False, precompute=False, random_state=None,\n",
       "   selection='cyclic', tol=0.0001, warm_start=False)"
      ]
     },
     "execution_count": 19,
     "metadata": {},
     "output_type": "execute_result"
    }
   ],
   "source": [
    "clfB = linear_model.Lasso(alpha=10.0)\n",
    "clfB.fit([[0,0], [1, 1], [2, 2]], [0, 1, 2])"
   ]
  },
  {
   "cell_type": "code",
   "execution_count": 20,
   "metadata": {
    "collapsed": false
   },
   "outputs": [
    {
     "data": {
      "text/plain": [
       "Ridge(alpha=1.0, copy_X=True, fit_intercept=True, max_iter=None,\n",
       "   normalize=False, solver='auto', tol=0.001)"
      ]
     },
     "execution_count": 20,
     "metadata": {},
     "output_type": "execute_result"
    }
   ],
   "source": [
    "from sklearn.linear_model import Ridge\n",
    "import numpy as np\n",
    "n_samples, n_features = 10, 5\n",
    "np.random.seed(0)\n",
    "y = np.random.randn(n_samples)\n",
    "X = np.random.randn(n_samples, n_features)\n",
    "clf = Ridge(alpha=1.0)\n",
    "clf.fit(X, y) \n",
    "Ridge(alpha=1.0, copy_X=True, fit_intercept=True, max_iter=None,\n",
    "      normalize=False, solver='auto', tol=0.001)"
   ]
  },
  {
   "cell_type": "code",
   "execution_count": null,
   "metadata": {
    "collapsed": true
   },
   "outputs": [],
   "source": []
  }
 ],
 "metadata": {
  "kernelspec": {
   "display_name": "Python 2",
   "language": "python",
   "name": "python2"
  },
  "language_info": {
   "codemirror_mode": {
    "name": "ipython",
    "version": 2
   },
   "file_extension": ".py",
   "mimetype": "text/x-python",
   "name": "python",
   "nbconvert_exporter": "python",
   "pygments_lexer": "ipython2",
   "version": "2.7.10"
  }
 },
 "nbformat": 4,
 "nbformat_minor": 0
}
